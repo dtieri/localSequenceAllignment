{
 "cells": [
  {
   "cell_type": "code",
   "execution_count": 1,
   "metadata": {
    "collapsed": false,
    "nbpresent": {
     "id": "9da3568c-e46d-49ec-bafd-5e81ab51a3f2"
    }
   },
   "outputs": [],
   "source": [
    "import numpy as np"
   ]
  },
  {
   "cell_type": "code",
   "execution_count": 2,
   "metadata": {
    "collapsed": true,
    "nbpresent": {
     "id": "c65788fb-4fdc-4804-b2dd-75dba962540e"
    }
   },
   "outputs": [],
   "source": [
    "# Sequences from Wikipedia's Smith Waterman sequence allignment example\n",
    "# See: https://en.wikipedia.org/wiki/Smith%E2%80%93Waterman_algorithm#Example\n",
    "seq1='GGTTGACTA'\n",
    "seq2='TGTTACGG'"
   ]
  },
  {
   "cell_type": "code",
   "execution_count": 3,
   "metadata": {
    "collapsed": true,
    "nbpresent": {
     "id": "7385e5c4-5d91-422c-a324-b6ec0309d36f"
    }
   },
   "outputs": [],
   "source": [
    "# Scoring scheme from Wikipedia's Smith Waterman sequence allignment example\n",
    "match=3;\n",
    "mismatch=-3;\n",
    "gap=-2;"
   ]
  },
  {
   "cell_type": "code",
   "execution_count": 4,
   "metadata": {
    "collapsed": false,
    "nbpresent": {
     "id": "0362f286-6966-4c47-8396-bb96c7273184"
    }
   },
   "outputs": [],
   "source": [
    "#Innitialize the score and traceback matricies and the local score choises c\n",
    "score=np.zeros((len(seq1)+1,len(seq2)+1))\n",
    "traceback=np.zeros((len(seq1)+1,len(seq2)+1))-1\n",
    "c=np.zeros(3)"
   ]
  },
  {
   "cell_type": "code",
   "execution_count": 5,
   "metadata": {
    "collapsed": false,
    "nbpresent": {
     "id": "8b82af43-6228-4572-a91b-48fc7f195f78"
    }
   },
   "outputs": [],
   "source": [
    "#Smith Waterman algorithm\n",
    "for ii, b1 in enumerate(seq1,start=1):\n",
    "    for jj, b2 in enumerate(seq2,start=1):\n",
    "        if b1==b2:\n",
    "            c[0]=score[ii-1,jj-1]+match\n",
    "        else:\n",
    "            c[0]=score[ii-1,jj-1]+mismatch\n",
    "        c[1]=score[ii-1,jj]+gap\n",
    "        c[2]=score[ii,jj-1]+gap\n",
    "        if c[c.argmax()] >= 0:\n",
    "            score[ii,jj]=c[c.argmax()]\n",
    "            traceback[ii,jj]=c.argmax()\n",
    "        else:\n",
    "            score[ii,jj]=0\n",
    "            traceback[ii,jj]=-2\n",
    "        #print(c.max(),c.argmax())\n",
    "#print(score)\n",
    "#print(traceback)"
   ]
  },
  {
   "cell_type": "code",
   "execution_count": 6,
   "metadata": {
    "collapsed": false,
    "nbpresent": {
     "id": "f20988ed-b4e7-4086-be80-e325f26f017c"
    }
   },
   "outputs": [
    {
     "name": "stdout",
     "output_type": "stream",
     "text": [
      "start score = 13.0\n"
     ]
    }
   ],
   "source": [
    "#Traceback innitiation\n",
    "currentInd=np.unravel_index(score.argmax(), score.shape)\n",
    "currentVal=score[currentInd]\n",
    "print('start score =',currentVal)\n",
    "#print('current index =',currentInd)\n",
    "matchedseq1=''\n",
    "matchedseq2=''\n",
    "test=matchedseq1+matchedseq2"
   ]
  },
  {
   "cell_type": "code",
   "execution_count": 7,
   "metadata": {
    "collapsed": false,
    "nbpresent": {
     "id": "1020083f-bba1-4199-a14f-881d534330c2"
    }
   },
   "outputs": [],
   "source": [
    "# Traceback procedure: traceback[i,j]=0 means the current cell came from a match\n",
    "# traceback[i,j]=1 means the current cell came from the cell above\n",
    "# traceback[i,j]=2 means the current cell came from the cell to the left\n",
    "while(currentVal>0):\n",
    "    if traceback[currentInd]==0:\n",
    "        #print(seq1[currentInd[0]-1],seq2[currentInd[1]-1])\n",
    "        matchedseq1=matchedseq1+seq1[currentInd[0]-1]\n",
    "        matchedseq2=matchedseq2+seq2[currentInd[1]-1]\n",
    "        currentInd=(currentInd[0]-1,currentInd[1]-1)\n",
    "    elif traceback[currentInd]==1:\n",
    "        #print(seq1[currentInd[0]-1],'-')\n",
    "        matchedseq1=matchedseq1+seq1[currentInd[0]-1]\n",
    "        matchedseq2=matchedseq2+'-'\n",
    "        currentInd=(currentInd[0]-1,currentInd[1])\n",
    "    elif traceback[currentInd]==2:\n",
    "        #print('-',seq2[currentInd[1]-1])\n",
    "        matchedseq1=matchedseq1+'-'\n",
    "        matchedseq2=matchedseq2+seq2[currentInd[1]-1]\n",
    "        currentInd=(currentInd[0],currentInd[1]-1)\n",
    "    currentVal=score[currentInd]\n",
    "    #print(currentVal,currentInd,traceback[currentInd]) "
   ]
  },
  {
   "cell_type": "code",
   "execution_count": 8,
   "metadata": {
    "collapsed": false,
    "nbpresent": {
     "id": "980ef740-20ae-42d3-b867-aed20713af4e"
    }
   },
   "outputs": [
    {
     "name": "stdout",
     "output_type": "stream",
     "text": [
      "GGTTGACTA\n",
      "TGTTACGG\n",
      "GTTGAC\n",
      "GTT-AC\n"
     ]
    }
   ],
   "source": [
    "#Original sequences, and alliged sequences\n",
    "print(seq1)\n",
    "print(seq2)\n",
    "print(matchedseq1[::-1])\n",
    "print(matchedseq2[::-1])"
   ]
  }
 ],
 "metadata": {
  "anaconda-cloud": {},
  "kernelspec": {
   "display_name": "Python [default]",
   "language": "python",
   "name": "python3"
  },
  "language_info": {
   "codemirror_mode": {
    "name": "ipython",
    "version": 3
   },
   "file_extension": ".py",
   "mimetype": "text/x-python",
   "name": "python",
   "nbconvert_exporter": "python",
   "pygments_lexer": "ipython3",
   "version": "3.5.2"
  }
 },
 "nbformat": 4,
 "nbformat_minor": 1
}
